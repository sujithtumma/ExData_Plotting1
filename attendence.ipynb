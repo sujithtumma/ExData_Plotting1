{
  "nbformat": 4,
  "nbformat_minor": 0,
  "metadata": {
    "colab": {
      "name": "Untitled0.ipynb",
      "provenance": [],
      "authorship_tag": "ABX9TyPHsTSI6g41CJpRL7zvPxaC",
      "include_colab_link": true
    },
    "kernelspec": {
      "name": "python3",
      "display_name": "Python 3"
    }
  },
  "cells": [
    {
      "cell_type": "markdown",
      "metadata": {
        "id": "view-in-github",
        "colab_type": "text"
      },
      "source": [
        "<a href=\"https://colab.research.google.com/github/sujithtumma/ExData_Plotting1/blob/master/attendence.ipynb\" target=\"_parent\"><img src=\"https://colab.research.google.com/assets/colab-badge.svg\" alt=\"Open In Colab\"/></a>"
      ]
    },
    {
      "cell_type": "code",
      "metadata": {
        "id": "FmACMli-q1o1",
        "colab_type": "code",
        "colab": {
          "base_uri": "https://localhost:8080/",
          "height": 34
        },
        "outputId": "a80716df-8ae4-4d73-cc1f-138dbfbf13b2"
      },
      "source": [
        "c = \"sujith\"\n",
        "c\n"
      ],
      "execution_count": 3,
      "outputs": [
        {
          "output_type": "execute_result",
          "data": {
            "text/plain": [
              "'sujith'"
            ]
          },
          "metadata": {
            "tags": []
          },
          "execution_count": 3
        }
      ]
    },
    {
      "cell_type": "code",
      "metadata": {
        "id": "K5sUi7Hhr2AB",
        "colab_type": "code",
        "colab": {}
      },
      "source": [
        "import hashlib \n"
      ],
      "execution_count": 0,
      "outputs": []
    },
    {
      "cell_type": "markdown",
      "metadata": {
        "id": "JYKiB_Wbr2V-",
        "colab_type": "text"
      },
      "source": [
        ""
      ]
    },
    {
      "cell_type": "code",
      "metadata": {
        "id": "AKA55_oS_MPj",
        "colab_type": "code",
        "colab": {}
      },
      "source": [
        "users = {}\n",
        "class Register(object):\n",
        "\n",
        "  def __init__(self, app):\n",
        "    self.app = app\n",
        "\n",
        "\n",
        "  def signup(self, username, password):\n",
        "    hash = hashlib.md5(password.encode())\n",
        "    users.update({username:hash.hexdigest()})\n",
        "\n",
        "  def login(self, username,password):\n",
        "    hash = hashlib.md5(password.encode())\n",
        "    if users[username] == hash.hexdigest():\n",
        "      return True\n",
        "    else:\n",
        "      return False \n"
      ],
      "execution_count": 0,
      "outputs": []
    },
    {
      "cell_type": "code",
      "metadata": {
        "id": "j8Xqs3lvCZtX",
        "colab_type": "code",
        "colab": {}
      },
      "source": [
        "u1 = Register(\"sujith\")\n"
      ],
      "execution_count": 0,
      "outputs": []
    },
    {
      "cell_type": "code",
      "metadata": {
        "id": "5CilFBT4C1Sl",
        "colab_type": "code",
        "colab": {}
      },
      "source": [
        "u1.signup(\"sujith\",\"tumma\")\n"
      ],
      "execution_count": 0,
      "outputs": []
    },
    {
      "cell_type": "code",
      "metadata": {
        "id": "QGxuQP-eC8nB",
        "colab_type": "code",
        "colab": {
          "base_uri": "https://localhost:8080/",
          "height": 34
        },
        "outputId": "93e577b1-491d-4024-8795-da5833fabd0c"
      },
      "source": [
        "u1.login(\"sujith\",\"tumma\")"
      ],
      "execution_count": 13,
      "outputs": [
        {
          "output_type": "execute_result",
          "data": {
            "text/plain": [
              "True"
            ]
          },
          "metadata": {
            "tags": []
          },
          "execution_count": 13
        }
      ]
    },
    {
      "cell_type": "code",
      "metadata": {
        "id": "ts_vyyXGDfOH",
        "colab_type": "code",
        "colab": {
          "base_uri": "https://localhost:8080/",
          "height": 1000
        },
        "outputId": "8917cebb-293d-408a-d23d-626876b01097"
      },
      "source": [
        "from flask_ngrok import run_with_ngrok\n",
        "from flask import Flask\n",
        "\n",
        "app = Flask(__name__)\n",
        "userobj = Register(app)\n",
        "run_with_ngrok(app)\n",
        "\n",
        "@app.route(\"/\")\n",
        "def index():\n",
        "  return \"for signup : /signup/username/password, forlogin : /login/username/password, forusers : /users\"\n",
        "\n",
        "@app.route(\"/signup/<username>/<password>\")\n",
        "def reg(username,password):\n",
        "  userobj.signup(username, password)\n",
        "  return \"{} succesfullyyy registeredd ..\".format(username)\n",
        "\n",
        "@app.route(\"/login/<username>/<password>\")\n",
        "def login(username, password):\n",
        "  auth = userobj.login(username, password)\n",
        "  if auth:\n",
        "    return \"login successful for {}\".format(username)\n",
        "  else:\n",
        "    return \"wrong password\"\n",
        "\n",
        "@app.route(\"/users\")\n",
        "def data():\n",
        "  return users\n",
        "\n",
        "\n",
        "app.run()"
      ],
      "execution_count": 0,
      "outputs": [
        {
          "output_type": "stream",
          "text": [
            " * Serving Flask app \"__main__\" (lazy loading)\n",
            " * Environment: production\n",
            "\u001b[31m   WARNING: This is a development server. Do not use it in a production deployment.\u001b[0m\n",
            "\u001b[2m   Use a production WSGI server instead.\u001b[0m\n",
            " * Debug mode: off\n"
          ],
          "name": "stdout"
        },
        {
          "output_type": "stream",
          "text": [
            " * Running on http://127.0.0.1:5000/ (Press CTRL+C to quit)\n"
          ],
          "name": "stderr"
        },
        {
          "output_type": "stream",
          "text": [
            " * Running on http://2ea327477a45.ngrok.io\n",
            " * Traffic stats available on http://127.0.0.1:4040\n"
          ],
          "name": "stdout"
        },
        {
          "output_type": "stream",
          "text": [
            "127.0.0.1 - - [01/Jun/2020 14:00:05] \"\u001b[37mGET / HTTP/1.1\u001b[0m\" 200 -\n",
            "127.0.0.1 - - [01/Jun/2020 14:00:06] \"\u001b[33mGET /favicon.ico HTTP/1.1\u001b[0m\" 404 -\n",
            "127.0.0.1 - - [01/Jun/2020 14:00:10] \"\u001b[37mGET / HTTP/1.1\u001b[0m\" 200 -\n",
            "127.0.0.1 - - [01/Jun/2020 14:00:34] \"\u001b[37mGET / HTTP/1.1\u001b[0m\" 200 -\n",
            "127.0.0.1 - - [01/Jun/2020 14:00:36] \"\u001b[37mGET / HTTP/1.1\u001b[0m\" 200 -\n",
            "127.0.0.1 - - [01/Jun/2020 14:00:54] \"\u001b[37mGET / HTTP/1.1\u001b[0m\" 200 -\n",
            "127.0.0.1 - - [01/Jun/2020 14:01:24] \"\u001b[37mGET /signup/sujith/tumma HTTP/1.1\u001b[0m\" 200 -\n",
            "127.0.0.1 - - [01/Jun/2020 14:01:38] \"\u001b[37mGET /signup/sujith/tumma HTTP/1.1\u001b[0m\" 200 -\n",
            "127.0.0.1 - - [01/Jun/2020 14:01:42] \"\u001b[37mGET / HTTP/1.1\u001b[0m\" 200 -\n",
            "127.0.0.1 - - [01/Jun/2020 14:02:08] \"\u001b[33mGET /forlogin%20:%20/login/sujith/tumma HTTP/1.1\u001b[0m\" 404 -\n",
            "127.0.0.1 - - [01/Jun/2020 14:02:11] \"\u001b[33mGET /forlogin%20:%20/login/sujith/tumma HTTP/1.1\u001b[0m\" 404 -\n",
            "127.0.0.1 - - [01/Jun/2020 14:02:32] \"\u001b[37mGET /login/sujith/tumma HTTP/1.1\u001b[0m\" 200 -\n",
            "127.0.0.1 - - [01/Jun/2020 14:02:35] \"\u001b[37mGET /login/sujith/tumma HTTP/1.1\u001b[0m\" 200 -\n",
            "127.0.0.1 - - [01/Jun/2020 14:02:44] \"\u001b[37mGET /users HTTP/1.1\u001b[0m\" 200 -\n",
            "127.0.0.1 - - [01/Jun/2020 14:04:30] \"\u001b[37mGET /signup/sujith/tumma HTTP/1.1\u001b[0m\" 200 -\n",
            "127.0.0.1 - - [01/Jun/2020 14:04:37] \"\u001b[37mGET / HTTP/1.1\u001b[0m\" 200 -\n",
            "127.0.0.1 - - [01/Jun/2020 14:04:48] \"\u001b[37mGET / HTTP/1.1\u001b[0m\" 200 -\n",
            "127.0.0.1 - - [01/Jun/2020 14:05:02] \"\u001b[37mGET / HTTP/1.1\u001b[0m\" 200 -\n",
            "127.0.0.1 - - [01/Jun/2020 14:05:33] \"\u001b[37mGET / HTTP/1.1\u001b[0m\" 200 -\n",
            "127.0.0.1 - - [01/Jun/2020 14:05:42] \"\u001b[37mGET / HTTP/1.1\u001b[0m\" 200 -\n",
            "127.0.0.1 - - [01/Jun/2020 14:05:43] \"\u001b[33mGET /favicon.ico HTTP/1.1\u001b[0m\" 404 -\n",
            "127.0.0.1 - - [01/Jun/2020 14:05:55] \"\u001b[37mGET / HTTP/1.1\u001b[0m\" 200 -\n",
            "127.0.0.1 - - [01/Jun/2020 14:05:56] \"\u001b[33mGET /favicon.ico HTTP/1.1\u001b[0m\" 404 -\n",
            "127.0.0.1 - - [01/Jun/2020 14:06:08] \"\u001b[37mGET / HTTP/1.1\u001b[0m\" 200 -\n",
            "127.0.0.1 - - [01/Jun/2020 14:06:28] \"\u001b[37mGET / HTTP/1.1\u001b[0m\" 200 -\n",
            "127.0.0.1 - - [01/Jun/2020 14:06:45] \"\u001b[37mGET / HTTP/1.1\u001b[0m\" 200 -\n",
            "127.0.0.1 - - [01/Jun/2020 14:06:58] \"\u001b[37mGET /signup/vinny/Vinny@123 HTTP/1.1\u001b[0m\" 200 -\n",
            "127.0.0.1 - - [01/Jun/2020 14:06:59] \"\u001b[33mGET /favicon.ico HTTP/1.1\u001b[0m\" 404 -\n",
            "127.0.0.1 - - [01/Jun/2020 14:07:13] \"\u001b[37mGET / HTTP/1.1\u001b[0m\" 200 -\n",
            "127.0.0.1 - - [01/Jun/2020 14:07:19] \"\u001b[33mGET /sign HTTP/1.1\u001b[0m\" 404 -\n",
            "127.0.0.1 - - [01/Jun/2020 14:07:20] \"\u001b[33mGET /signup HTTP/1.1\u001b[0m\" 404 -\n",
            "127.0.0.1 - - [01/Jun/2020 14:07:21] \"\u001b[33mGET /signup/ HTTP/1.1\u001b[0m\" 404 -\n",
            "127.0.0.1 - - [01/Jun/2020 14:07:22] \"\u001b[33mGET /signup/indu HTTP/1.1\u001b[0m\" 404 -\n",
            "127.0.0.1 - - [01/Jun/2020 14:07:23] \"\u001b[33mGET /signup/indu/ HTTP/1.1\u001b[0m\" 404 -\n",
            "127.0.0.1 - - [01/Jun/2020 14:07:26] \"\u001b[37mGET /signup/indu/vinsuin HTTP/1.1\u001b[0m\" 200 -\n",
            "127.0.0.1 - - [01/Jun/2020 14:07:27] \"\u001b[37mGET /signup/indu/vinsuin13 HTTP/1.1\u001b[0m\" 200 -\n",
            "127.0.0.1 - - [01/Jun/2020 14:07:41] \"\u001b[37mGET /signup/indu/vinsuin13 HTTP/1.1\u001b[0m\" 200 -\n",
            "127.0.0.1 - - [01/Jun/2020 14:07:42] \"\u001b[33mGET /favicon.ico HTTP/1.1\u001b[0m\" 404 -\n",
            "127.0.0.1 - - [01/Jun/2020 14:07:59] \"\u001b[37mGET /signup/indu/vinsuin13 HTTP/1.1\u001b[0m\" 200 -\n",
            "127.0.0.1 - - [01/Jun/2020 14:08:26] \"\u001b[33mGET /login HTTP/1.1\u001b[0m\" 404 -\n",
            "127.0.0.1 - - [01/Jun/2020 14:08:26] \"\u001b[33mGET /login/ HTTP/1.1\u001b[0m\" 404 -\n",
            "127.0.0.1 - - [01/Jun/2020 14:08:26] \"\u001b[33mGET /login/indu HTTP/1.1\u001b[0m\" 404 -\n",
            "127.0.0.1 - - [01/Jun/2020 14:08:28] \"\u001b[33mGET /login/indu/ HTTP/1.1\u001b[0m\" 404 -\n",
            "127.0.0.1 - - [01/Jun/2020 14:08:29] \"\u001b[37mGET /login/indu/vin HTTP/1.1\u001b[0m\" 200 -\n",
            "127.0.0.1 - - [01/Jun/2020 14:08:30] \"\u001b[37mGET /login/indu/vinsuin HTTP/1.1\u001b[0m\" 200 -\n",
            "127.0.0.1 - - [01/Jun/2020 14:08:32] \"\u001b[37mGET /login/indu/vinsuin13 HTTP/1.1\u001b[0m\" 200 -\n",
            "127.0.0.1 - - [01/Jun/2020 14:08:38] \"\u001b[37mGET /login/indu/vinsuin13 HTTP/1.1\u001b[0m\" 200 -\n",
            "127.0.0.1 - - [01/Jun/2020 14:08:39] \"\u001b[33mGET /favicon.ico HTTP/1.1\u001b[0m\" 404 -\n",
            "127.0.0.1 - - [01/Jun/2020 14:08:55] \"\u001b[37mGET /users HTTP/1.1\u001b[0m\" 200 -\n",
            "127.0.0.1 - - [01/Jun/2020 14:08:56] \"\u001b[33mGET /favicon.ico HTTP/1.1\u001b[0m\" 404 -\n",
            "127.0.0.1 - - [01/Jun/2020 14:10:23] \"\u001b[37mGET /users HTTP/1.1\u001b[0m\" 200 -\n",
            "127.0.0.1 - - [01/Jun/2020 14:10:24] \"\u001b[33mGET /favicon.ico HTTP/1.1\u001b[0m\" 404 -\n"
          ],
          "name": "stderr"
        }
      ]
    },
    {
      "cell_type": "code",
      "metadata": {
        "id": "lHjfvFKfDFWQ",
        "colab_type": "code",
        "colab": {
          "base_uri": "https://localhost:8080/",
          "height": 289
        },
        "outputId": "bdc6be60-3630-4b04-923b-cf171ae3efed"
      },
      "source": [
        "!pip install flask-ngrok"
      ],
      "execution_count": 14,
      "outputs": [
        {
          "output_type": "stream",
          "text": [
            "Collecting flask-ngrok\n",
            "  Downloading https://files.pythonhosted.org/packages/af/6c/f54cb686ad1129e27d125d182f90f52b32f284e6c8df58c1bae54fa1adbc/flask_ngrok-0.0.25-py3-none-any.whl\n",
            "Requirement already satisfied: Flask>=0.8 in /usr/local/lib/python3.6/dist-packages (from flask-ngrok) (1.1.2)\n",
            "Requirement already satisfied: requests in /usr/local/lib/python3.6/dist-packages (from flask-ngrok) (2.23.0)\n",
            "Requirement already satisfied: itsdangerous>=0.24 in /usr/local/lib/python3.6/dist-packages (from Flask>=0.8->flask-ngrok) (1.1.0)\n",
            "Requirement already satisfied: Werkzeug>=0.15 in /usr/local/lib/python3.6/dist-packages (from Flask>=0.8->flask-ngrok) (1.0.1)\n",
            "Requirement already satisfied: click>=5.1 in /usr/local/lib/python3.6/dist-packages (from Flask>=0.8->flask-ngrok) (7.1.2)\n",
            "Requirement already satisfied: Jinja2>=2.10.1 in /usr/local/lib/python3.6/dist-packages (from Flask>=0.8->flask-ngrok) (2.11.2)\n",
            "Requirement already satisfied: urllib3!=1.25.0,!=1.25.1,<1.26,>=1.21.1 in /usr/local/lib/python3.6/dist-packages (from requests->flask-ngrok) (1.24.3)\n",
            "Requirement already satisfied: certifi>=2017.4.17 in /usr/local/lib/python3.6/dist-packages (from requests->flask-ngrok) (2020.4.5.1)\n",
            "Requirement already satisfied: chardet<4,>=3.0.2 in /usr/local/lib/python3.6/dist-packages (from requests->flask-ngrok) (3.0.4)\n",
            "Requirement already satisfied: idna<3,>=2.5 in /usr/local/lib/python3.6/dist-packages (from requests->flask-ngrok) (2.9)\n",
            "Requirement already satisfied: MarkupSafe>=0.23 in /usr/local/lib/python3.6/dist-packages (from Jinja2>=2.10.1->Flask>=0.8->flask-ngrok) (1.1.1)\n",
            "Installing collected packages: flask-ngrok\n",
            "Successfully installed flask-ngrok-0.0.25\n"
          ],
          "name": "stdout"
        }
      ]
    }
  ]
}